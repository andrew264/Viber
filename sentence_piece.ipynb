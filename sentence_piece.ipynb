{
 "cells": [
  {
   "cell_type": "code",
   "execution_count": 1,
   "metadata": {
    "collapsed": true
   },
   "outputs": [],
   "source": [
    "import os.path\n",
    "\n",
    "import tensorflow as tf\n",
    "\n",
    "import re\n",
    "import pandas as pd\n",
    "from tokenization import FullTokenizer"
   ]
  },
  {
   "cell_type": "code",
   "execution_count": 2,
   "outputs": [],
   "source": [
    "DELIMITER = '|'\n",
    "seq_length = 128\n",
    "\n",
    "BATCH_SIZE = 128\n",
    "BUFFER_SIZE = 10000\n",
    "EPOCHS = 30"
   ],
   "metadata": {
    "collapsed": false
   }
  },
  {
   "cell_type": "code",
   "execution_count": 3,
   "outputs": [],
   "source": [
    "dataset_df = pd.read_csv('dataset.csv', dtype=str, delimiter=DELIMITER).sample(frac=1)\n",
    "\n",
    "lyrics = dataset_df['lyrics'].str.cat()\n",
    "lyrics = re.sub(r'\\n{3,}', '\\n', lyrics)"
   ],
   "metadata": {
    "collapsed": false
   }
  },
  {
   "cell_type": "code",
   "execution_count": 4,
   "outputs": [
    {
     "name": "stdout",
     "output_type": "stream",
     "text": [
      "loading sentence piece model\r\n",
      "500 unique characters\n"
     ]
    }
   ],
   "source": [
    "tokenizer = FullTokenizer(spm_model_file='sp_model.model')\n",
    "print(f'{tokenizer.vocab_size} unique characters')"
   ],
   "metadata": {
    "collapsed": false
   }
  },
  {
   "cell_type": "code",
   "execution_count": 5,
   "outputs": [
    {
     "name": "stdout",
     "output_type": "stream",
     "text": [
      "tf.Tensor([ 56  31  22 ...  26 199  20], shape=(6080163,), dtype=int16)\n"
     ]
    },
    {
     "data": {
      "text/plain": "<BatchDataset element_spec=TensorSpec(shape=(129,), dtype=tf.int16, name=None)>"
     },
     "execution_count": 5,
     "metadata": {},
     "output_type": "execute_result"
    }
   ],
   "source": [
    "tokens = tokenizer.tokenize(lyrics)\n",
    "all_ids = tf.convert_to_tensor(tokens, dtype=tf.int16)\n",
    "print(all_ids)\n",
    "\n",
    "ids_dataset = tf.data.Dataset.from_tensor_slices(all_ids)\n",
    "sequences = ids_dataset.batch(seq_length+1, drop_remainder=True, name=\"batched_lyrics_as_ids\")\n",
    "sequences"
   ],
   "metadata": {
    "collapsed": false
   }
  },
  {
   "cell_type": "code",
   "execution_count": 6,
   "outputs": [
    {
     "name": "stdout",
     "output_type": "stream",
     "text": [
      "['▁You', '▁and', '▁me', ',', '▁we', '▁made', '▁a', '▁', 'v', 'ow', '\\n', 'F', 'or', '▁better', '▁or', '▁for', '▁w', 'or', 'se', '\\n', 'I', '▁can', \"'\", 't', '▁believe', '▁you', '▁let', '▁me', '▁down', '\\n', 'B', 'ut', '▁the', '▁', 't', 'ru', 'th', \"'\", 's', '▁in', '▁the', '▁way', '▁it', '▁hurt', 's', '\\n', 'F', 'or', '▁mo', 'n', 'th', 's', '▁on', '▁', 'end', '▁I', \"'\", 've', '▁had', '▁my', '▁do', 'u', 'b', 't', 's', '\\n', 'D', 'en', 'y', 'ing', '▁every', '▁te', 'ar', '\\n', 'I', '▁wish', '▁this', '▁would', '▁be', '▁over', '▁now', '\\n', 'B', 'ut', '▁I', '▁know', '▁that', '▁I', '▁still', '▁need', '▁you', '▁here', '\\n', '\\n', 'Y', 'o', 'u', '▁say', '▁I', \"'\", 'm', '▁crazy', '\\n', \"'\", 'Cause', '▁you', '▁don', \"'\", 't', '▁think', '▁I', '▁know', '▁what', '▁you', \"'\", 've', '▁don', 'e', '\\n', 'B', 'ut', '▁when', '▁you', '▁call', '▁me', '▁baby', '\\n', 'I', '▁know']\n",
      "You and me, we made a vow\n",
      "For better or for worse\n",
      "I can't believe you let me down\n",
      "But the truth's in the way it hurts\n",
      "For months on end I've had my doubts\n",
      "Denying every tear\n",
      "I wish this would be over now\n",
      "But I know that I still need you here\n",
      "\n",
      "You say I'm crazy\n",
      "'Cause you don't think I know what you've done\n",
      "But when you call me baby\n",
      "I know\n"
     ]
    }
   ],
   "source": [
    "for seq in sequences.take(1):\n",
    "  print(tokenizer.convert_ids_to_tokens(seq.numpy().tolist()))\n",
    "  print(tokenizer.detokenize(seq.numpy().tolist()))"
   ],
   "metadata": {
    "collapsed": false
   }
  },
  {
   "cell_type": "code",
   "execution_count": 7,
   "outputs": [],
   "source": [
    "def split_input_target(sequence: list[str]) -> tuple[list[str], list[str]]:\n",
    "  input_text = sequence[:-1]\n",
    "  target_text = sequence[1:]\n",
    "  return input_text, target_text"
   ],
   "metadata": {
    "collapsed": false
   }
  },
  {
   "cell_type": "code",
   "execution_count": 8,
   "outputs": [
    {
     "data": {
      "text/plain": "<PrefetchDataset element_spec=(TensorSpec(shape=(128, 128), dtype=tf.int16, name=None), TensorSpec(shape=(128, 128), dtype=tf.int16, name=None))>"
     },
     "execution_count": 8,
     "metadata": {},
     "output_type": "execute_result"
    }
   ],
   "source": [
    "dataset = (\n",
    "    sequences\n",
    "    .map(split_input_target)\n",
    "    .shuffle(BUFFER_SIZE)\n",
    "    .batch(BATCH_SIZE, drop_remainder=True)\n",
    "    .prefetch(tf.data.experimental.AUTOTUNE))\n",
    "\n",
    "dataset"
   ],
   "metadata": {
    "collapsed": false
   }
  },
  {
   "cell_type": "code",
   "execution_count": 9,
   "outputs": [],
   "source": [
    "from model import MyModel\n",
    "model = MyModel(vocab_size=tokenizer.vocab_size,\n",
    "                embedding_dim=256,\n",
    "                rnn_units=1024)\n",
    "\n",
    "loss = tf.losses.SparseCategoricalCrossentropy(from_logits=True)\n",
    "optimizer = tf.optimizers.Adamax()\n",
    "model.compile(optimizer=optimizer, loss=loss, metrics=['accuracy'])"
   ],
   "metadata": {
    "collapsed": false
   }
  },
  {
   "cell_type": "code",
   "execution_count": 22,
   "outputs": [
    {
     "name": "stdout",
     "output_type": "stream",
     "text": [
      "Loaded Weights\n"
     ]
    }
   ],
   "source": [
    "import os\n",
    "\n",
    "model_dir = './model'\n",
    "if os.path.exists(model_dir):\n",
    "    model.load_weights(tf.train.latest_checkpoint(model_dir))\n",
    "    print('Loaded Weights')"
   ],
   "metadata": {
    "collapsed": false
   }
  },
  {
   "cell_type": "code",
   "execution_count": 21,
   "outputs": [
    {
     "name": "stdout",
     "output_type": "stream",
     "text": [
      "Epoch 1/30\n",
      " 77/368 [=====>........................] - ETA: 35s - loss: 1.8970 - accuracy: 0.5584"
     ]
    },
    {
     "name": "stderr",
     "output_type": "stream",
     "text": [
      "\n",
      "KeyboardInterrupt\n",
      "\n"
     ]
    }
   ],
   "source": [
    "history = model.fit(dataset, epochs=EPOCHS,)\n",
    "model.save_weights(os.path.join(model_dir, \"weights\"))"
   ],
   "metadata": {
    "collapsed": false
   }
  },
  {
   "cell_type": "code",
   "execution_count": 11,
   "outputs": [
    {
     "data": {
      "text/plain": "<Figure size 1000x500 with 2 Axes>",
      "image/png": "[encoded data removed]"
     },
     "metadata": {},
     "output_type": "display_data"
    }
   ],
   "source": [
    "from matplotlib import pyplot as plt\n",
    "\n",
    "\n",
    "def plot_graphs(_history):\n",
    "    fig, axs = plt.subplots(1, len(_history.items()), figsize=(10,5))\n",
    "    fig.suptitle(\"Metrics\")\n",
    "    for i, (title, values) in enumerate(_history.items()):\n",
    "        axs[i].plot(values)\n",
    "        axs[i].set_xlabel(\"Epochs\")\n",
    "        axs[i].set_ylabel(title.title())\n",
    "    plt.show()\n",
    "\n",
    "\n",
    "plot_graphs(history.history)"
   ],
   "metadata": {
    "collapsed": false
   }
  },
  {
   "cell_type": "code",
   "execution_count": 12,
   "outputs": [],
   "source": [
    "from abc import ABC\n",
    "\n",
    "class OneStep(tf.keras.Model, ABC):\n",
    "    def __init__(self, model, tokenizer: FullTokenizer, *args, **kwargs):\n",
    "        super().__init__(*args, **kwargs)\n",
    "        self.model = model\n",
    "        self.tokenizer = tokenizer\n",
    "\n",
    "        # Create a mask to prevent \"[UNK]\" from being generated.\n",
    "        skip_ids = tf.constant([[tokenizer.sp_model.unk_id()]], dtype=tf.int64)\n",
    "        sparse_mask = tf.SparseTensor(\n",
    "            # Put an -inf at each bad index.\n",
    "            values=[-float('inf')]*len(skip_ids),\n",
    "            indices=skip_ids,\n",
    "            # Match the shape to the vocabulary\n",
    "            dense_shape=[tokenizer.vocab_size])\n",
    "        self.prediction_mask = tf.sparse.to_dense(sparse_mask)\n",
    "        # inputs = tf.TensorSpec(shape=[None], dtype=tf.string)\n",
    "        # states = [tf.TensorSpec(shape=[None, None], dtype=tf.float32) for _ in range(4)]\n",
    "        # temperature = tf.TensorSpec(shape=None, dtype=tf.float32)\n",
    "        # steps = tf.TensorSpec(shape=None, dtype=tf.int32)\n",
    "        # self.generate.get_concrete_function(inputs, states, temperature, steps)\n",
    "\n",
    "    # @tf.function\n",
    "    def generate(self, inputs: str, states=None, temperature: float = 1.0, steps: int = 200):\n",
    "        tokens = self.tokenizer.tokenize(inputs)\n",
    "        output_array = tf.TensorArray(dtype=tf.int64, dynamic_size=True, size=0)\n",
    "        for i in tf.range(0, len(tokens)):\n",
    "            output_array = output_array.write(output_array.size(), tokens[i])\n",
    "\n",
    "        for _ in tf.range(steps):\n",
    "            inputs = tf.convert_to_tensor([output_array.stack()])\n",
    "            predicted_logits, states = self.model(inputs=inputs, states=states,\n",
    "                                                  return_state=True)\n",
    "            # Only use the last prediction.\n",
    "            predicted_logits = predicted_logits[:, -1, :]\n",
    "            predicted_logits = predicted_logits / temperature\n",
    "            # Apply the prediction mask: prevent \"[UNK]\" from being generated.\n",
    "            predicted_logits = predicted_logits + self.prediction_mask\n",
    "\n",
    "            # Sample the output logits to generate token IDs.\n",
    "            predicted_ids = tf.random.categorical(predicted_logits, num_samples=1)\n",
    "            predicted_ids = tf.squeeze(predicted_ids, axis=-1)\n",
    "            output_array = output_array.write(output_array.size(), predicted_ids[0])\n",
    "\n",
    "        return self.tokenizer.detokenize(output_array.stack().numpy().tolist())"
   ],
   "metadata": {
    "collapsed": false
   }
  },
  {
   "cell_type": "code",
   "execution_count": 13,
   "outputs": [],
   "source": [
    "one_step = OneStep(model, tokenizer)"
   ],
   "metadata": {
    "collapsed": false
   }
  },
  {
   "cell_type": "code",
   "execution_count": 14,
   "outputs": [
    {
     "name": "stdout",
     "output_type": "stream",
     "text": [
      "WARNING:tensorflow:5 out of the last 5 calls to <function MyModel.call at 0x000001201A9E1000> triggered tf.function retracing. Tracing is expensive and the excessive number of tracings could be due to (1) creating @tf.function repeatedly in a loop, (2) passing tensors with different shapes, (3) passing Python objects instead of tensors. For (1), please define your @tf.function outside of the loop. For (2), @tf.function has reduce_retracing=True option that can avoid unnecessary retracing. For (3), please refer to https://www.tensorflow.org/guide/function#controlling_retracing and https://www.tensorflow.org/api_docs/python/tf/function for  more details.\n",
      "WARNING:tensorflow:6 out of the last 6 calls to <function MyModel.call at 0x000001201A9E1000> triggered tf.function retracing. Tracing is expensive and the excessive number of tracings could be due to (1) creating @tf.function repeatedly in a loop, (2) passing tensors with different shapes, (3) passing Python objects instead of tensors. For (1), please define your @tf.function outside of the loop. For (2), @tf.function has reduce_retracing=True option that can avoid unnecessary retracing. For (3), please refer to https://www.tensorflow.org/guide/function#controlling_retracing and https://www.tensorflow.org/api_docs/python/tf/function for  more details.\n",
      "i am capable oftent rain\n",
      "\n",
      "Tied once as the ruin, I am gonna heaveHeaven setting\n",
      "They're better off?\n",
      "\n",
      "I'm so fucking brazy\n",
      "I got a bad girl different in the deno\n",
      "But while I'm droppin' the club in how I'm lie\n",
      "I'm 'bout to go crazy, selling vibes\n",
      "It's on the top, it's a roof, train tangerin' bursting\n",
      "Point back to Palray, Big Money like a tramp\n",
      "I'm whipping out feed and show 'em so we keep as equals\n",
      "I get the dough block off the Roc 'cause they runnin' shit up\n",
      "My shit is a cool in this, cost a pistol on the couch\n",
      "And you ain't gotta say too much, get thinkin' 'bout us, need some head\n",
      "Make you say was any page, you can never find out the sound\n",
      "Off Black World nigga, they done braggin'\n",
      "Now if you cag up they never saw the whole world for some people use to?\n",
      "Eyes ready for the fact that you gotta pull it back\n",
      "Ain't gotta got you in my bed, rertant, can you still see the game?\"\n",
      "What am I no doing?At you hate it when only I see I'm hanging by rhymes\n",
      "Got me thinkin' about to, envy mata what I meant\n",
      "My Gawn dog and buy in the pocket\n",
      "I'm startin' to get some fence, Ket Peeins'll\n",
      "New parades only like me was Ca\n"
     ]
    }
   ],
   "source": [
    "test = \"i am capable of\"\n",
    "states = None\n",
    "print(one_step.generate(test, steps = 500))"
   ],
   "metadata": {
    "collapsed": false
   }
  },
  {
   "cell_type": "code",
   "execution_count": 15,
   "outputs": [],
   "source": [],
   "metadata": {
    "collapsed": false
   }
  }
 ],
 "metadata": {
  "kernelspec": {
   "display_name": "Python 3",
   "language": "python",
   "name": "python3"
  },
  "language_info": {
   "codemirror_mode": {
    "name": "ipython",
    "version": 2
   },
   "file_extension": ".py",
   "mimetype": "text/x-python",
   "name": "python",
   "nbconvert_exporter": "python",
   "pygments_lexer": "ipython2",
   "version": "2.7.6"
  }
 },
 "nbformat": 4,
 "nbformat_minor": 0
}
